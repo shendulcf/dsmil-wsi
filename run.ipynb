{
 "cells": [
  {
   "attachments": {},
   "cell_type": "markdown",
   "metadata": {},
   "source": [
    "# data download"
   ]
  },
  {
   "cell_type": "code",
   "execution_count": null,
   "metadata": {},
   "outputs": [],
   "source": [
    "!python download.py --dataset=tcga"
   ]
  },
  {
   "cell_type": "code",
   "execution_count": null,
   "metadata": {},
   "outputs": [],
   "source": [
    "!python download.py --dataset=tcga-test"
   ]
  },
  {
   "attachments": {},
   "cell_type": "markdown",
   "metadata": {},
   "source": [
    "# train\n",
    "\n",
    "[--num_classes]       # Number of non-negative classes \\\n",
    "[--feats_size]        # Size of feature vector (depends on the CNN backbone)\\\n",
    "[--lr]                # Initial learning rate [0.0002]\\\n",
    "[--num_epochs]        # Number of training epochs [200]\\\n",
    "[--weight_decay]      # Weight decay [5e-3]\\\n",
    "[--dataset]           # Dataset folder name\\\n",
    "[--split]             # Training/validation split [0.2]\\\n",
    "[--dropout_patch]     # Randomly dropout a portion of patches and replace with duplicates during training [0]\\\n",
    "[--dropout_node]      # Randomly dropout a portion of nodes in the value vector generation network during training \\[0]\\"
   ]
  },
  {
   "attachments": {},
   "cell_type": "markdown",
   "metadata": {},
   "source": [
    "## TCGA肺癌数据集"
   ]
  },
  {
   "cell_type": "code",
   "execution_count": 3,
   "metadata": {},
   "outputs": [
    {
     "name": "stdout",
     "output_type": "stream",
     "text": [
      "/home/sci/PycharmProjects/chaofan/projects/dsmil-wsi/train_tcga.py:43: UserWarning: Creating a tensor from a list of numpy.ndarrays is extremely slow. Please consider converting the list to a single numpy.ndarray with numpy.array() before converting to a tensor. (Triggered internally at  /opt/conda/conda-bld/pytorch_1659484806139/work/torch/csrc/utils/tensor_new.cpp:201.)\n",
      "  bag_label = Variable(Tensor([label]))\n",
      " Epoch [1/200] train loss: 0.6146 test loss: 0.5269, average score: 0.9238, AUC: class-0>>0.97450322112331|class-1>>0.9728699755013157\n",
      "Best model saved at: weights/03262023/2.pth\n",
      "Best thresholds ===>>> class-0>>0.488095223903656|class-1>>0.5189274549484253\n",
      " Epoch [2/200] train loss: 0.5095 test loss: 0.4580, average score: 0.9238, AUC: class-0>>0.97450322112331|class-1>>0.9723255602939842\n",
      " Epoch [3/200] train loss: 0.4577 test loss: 0.4336, average score: 0.9238, AUC: class-0>>0.9735958624444243|class-1>>0.9720533526903185\n",
      " Epoch [4/200] train loss: 0.4307 test loss: 0.4036, average score: 0.9190, AUC: class-0>>0.9737773341802014|class-1>>0.9722348244260957\n",
      " Epoch [5/200] train loss: 0.4143 test loss: 0.3925, average score: 0.9190, AUC: class-0>>0.9741402776517556|class-1>>0.9697849559931041\n",
      " Epoch [6/200] train loss: 0.4001 test loss: 0.3810, average score: 0.9190, AUC: class-0>>0.9740495417838672|class-1>>0.9693312766536611\n",
      " Epoch [7/200] train loss: 0.3934 test loss: 0.3697, average score: 0.9095, AUC: class-0>>0.9739588059159786|class-1>>0.9692405407857726\n",
      " Epoch [8/200] train loss: 0.3849 test loss: 0.3668, average score: 0.9143, AUC: class-0>>0.973414390708647|class-1>>0.9693312766536613\n",
      " Epoch [9/200] train loss: 0.3797 test loss: 0.3595, average score: 0.9095, AUC: class-0>>0.9739588059159785|class-1>>0.9677887668995554\n",
      " Epoch [10/200] train loss: 0.3728 test loss: 0.3775, average score: 0.9048, AUC: class-0>>0.9743217493875329|class-1>>0.9632519735051266\n",
      " Epoch [11/200] train loss: 0.3678 test loss: 0.3590, average score: 0.9095, AUC: class-0>>0.9737773341802014|class-1>>0.9654296343344524\n",
      " Epoch [12/200] train loss: 0.3662 test loss: 0.3497, average score: 0.9095, AUC: class-0>>0.9736865983123127|class-1>>0.9663369930133382\n",
      " Epoch [13/200] train loss: 0.3650 test loss: 0.3449, average score: 0.9095, AUC: class-0>>0.9724162961618728|class-1>>0.969603484257327\n",
      " Epoch [14/200] train loss: 0.3631 test loss: 0.3431, average score: 0.9095, AUC: class-0>>0.9729607113692044|class-1>>0.9665184647491153\n",
      " Epoch [15/200] train loss: 0.3601 test loss: 0.3399, average score: 0.9095, AUC: class-0>>0.9723255602939842|class-1>>0.9679702386353325\n",
      " Epoch [16/200] train loss: 0.3572 test loss: 0.3386, average score: 0.9095, AUC: class-0>>0.9725977678976498|class-1>>0.967244351692224\n",
      " Epoch [17/200] train loss: 0.3586 test loss: 0.3810, average score: 0.8857, AUC: class-0>>0.9737773341802014|class-1>>0.960802105072135\n",
      " Epoch [18/200] train loss: 0.3557 test loss: 0.3404, average score: 0.9095, AUC: class-0>>0.9696942201252154|class-1>>0.969149804917884\n",
      " Epoch [19/200] train loss: 0.3540 test loss: 0.3476, average score: 0.9095, AUC: class-0>>0.9696942201252156|class-1>>0.969149804917884\n",
      " Epoch [20/200] train loss: 0.3544 test loss: 0.3333, average score: 0.9095, AUC: class-0>>0.9724162961618728|class-1>>0.9674258234280011\n",
      " Epoch [21/200] train loss: 0.3511 test loss: 0.3389, average score: 0.9048, AUC: class-0>>0.9724162961618728|class-1>>0.9657018419381181\n",
      " Epoch [22/200] train loss: 0.3524 test loss: 0.3315, average score: 0.9095, AUC: class-0>>0.9723255602939842|class-1>>0.966790672352781\n",
      " Epoch [23/200] train loss: 0.3488 test loss: 0.3436, average score: 0.9000, AUC: class-0>>0.9731421831049814|class-1>>0.9635241811087923\n",
      " Epoch [24/200] train loss: 0.3495 test loss: 0.3427, average score: 0.9000, AUC: class-0>>0.9725977678976498|class-1>>0.9651574267307866\n",
      " Epoch [25/200] train loss: 0.3489 test loss: 0.3491, average score: 0.8905, AUC: class-0>>0.9735051265765358|class-1>>0.9623446148262408\n",
      " Epoch [26/200] train loss: 0.3475 test loss: 0.3330, average score: 0.9095, AUC: class-0>>0.9695127483894384|class-1>>0.967879502767444\n",
      " Epoch [27/200] train loss: 0.3479 test loss: 0.3336, average score: 0.9048, AUC: class-0>>0.9720533526903185|class-1>>0.9659740495417838\n",
      " Epoch [28/200] train loss: 0.3479 test loss: 0.3312, average score: 0.9048, AUC: class-0>>0.9716904092187642|class-1>>0.9652481625986753\n",
      " Epoch [29/200] train loss: 0.3465 test loss: 0.3307, average score: 0.9095, AUC: class-0>>0.9722348244260957|class-1>>0.9666999364848925\n",
      " Epoch [30/200] train loss: 0.3470 test loss: 0.3264, average score: 0.9048, AUC: class-0>>0.9713274657472099|class-1>>0.966790672352781\n",
      " Epoch [31/200] train loss: 0.3453 test loss: 0.3361, average score: 0.8952, AUC: class-0>>0.9725070320297613|class-1>>0.9643408039197895\n",
      " Epoch [32/200] train loss: 0.3456 test loss: 0.3331, average score: 0.9095, AUC: class-0>>0.9691498049178839|class-1>>0.9684239179747755\n",
      " Epoch [33/200] train loss: 0.3460 test loss: 0.3251, average score: 0.9048, AUC: class-0>>0.9712367298793214|class-1>>0.9668814082206696\n",
      " Epoch [34/200] train loss: 0.3439 test loss: 0.3337, average score: 0.9000, AUC: class-0>>0.972779239633427|class-1>>0.9636149169766809\n",
      " Epoch [35/200] train loss: 0.3448 test loss: 0.3331, average score: 0.8952, AUC: class-0>>0.9722348244260957|class-1>>0.9657925778060067\n",
      " Epoch [36/200] train loss: 0.3441 test loss: 0.3245, average score: 0.9048, AUC: class-0>>0.9699664277288813|class-1>>0.9672443516922239\n",
      " Epoch [37/200] train loss: 0.3434 test loss: 0.3269, average score: 0.9095, AUC: class-0>>0.9704201070683243|class-1>>0.9675165592958896\n",
      " Epoch [38/200] train loss: 0.3437 test loss: 0.3253, average score: 0.9048, AUC: class-0>>0.970873786407767|class-1>>0.9666999364848925\n",
      " Epoch [39/200] train loss: 0.3436 test loss: 0.3256, average score: 0.9095, AUC: class-0>>0.9688775973142184|class-1>>0.9683331821068869\n",
      " Epoch [40/200] train loss: 0.3380 test loss: 0.3356, average score: 0.8952, AUC: class-0>>0.9723255602939842|class-1>>0.9641593321840124\n",
      " Epoch [41/200] train loss: 0.3400 test loss: 0.3254, average score: 0.9000, AUC: class-0>>0.9707830505398785|class-1>>0.9663369930133382\n",
      " Epoch [42/200] train loss: 0.3404 test loss: 0.3283, average score: 0.9095, AUC: class-0>>0.9718718809545412|class-1>>0.9672443516922239\n",
      " Epoch [43/200] train loss: 0.3399 test loss: 0.3592, average score: 0.8905, AUC: class-0>>0.9725070320297613|class-1>>0.9617094637510208\n",
      " Epoch [44/200] train loss: 0.3416 test loss: 0.3326, average score: 0.9000, AUC: class-0>>0.972144088558207|class-1>>0.9634334452409037\n",
      " Epoch [45/200] train loss: 0.3415 test loss: 0.3355, average score: 0.9095, AUC: class-0>>0.9688775973142183|class-1>>0.9682424462389982\n",
      " Epoch [46/200] train loss: 0.3405 test loss: 0.3356, average score: 0.9000, AUC: class-0>>0.9726885037655384|class-1>>0.9623446148262408\n",
      " Epoch [47/200] train loss: 0.3402 test loss: 0.3242, average score: 0.9000, AUC: class-0>>0.9715996733508756|class-1>>0.9662462571454495\n",
      " Epoch [48/200] train loss: 0.3397 test loss: 0.3240, average score: 0.9000, AUC: class-0>>0.9709645222756556|class-1>>0.9663369930133381\n",
      " Epoch [49/200] train loss: 0.3410 test loss: 0.3317, average score: 0.8952, AUC: class-0>>0.9722348244260957|class-1>>0.9656111060702295\n",
      " Epoch [50/200] train loss: 0.3397 test loss: 0.3240, average score: 0.9000, AUC: class-0>>0.9699664277288813|class-1>>0.9668814082206697\n",
      " Epoch [51/200] train loss: 0.3376 test loss: 0.3269, average score: 0.9000, AUC: class-0>>0.9717811450866527|class-1>>0.9657018419381181\n",
      " Epoch [52/200] train loss: 0.3387 test loss: 0.3265, average score: 0.9095, AUC: class-0>>0.9686053897105525|class-1>>0.9686961255784412\n",
      " Epoch [53/200] train loss: 0.3386 test loss: 0.3501, average score: 0.8952, AUC: class-0>>0.9720533526903185|class-1>>0.9604391616005807\n",
      " Epoch [54/200] train loss: 0.3391 test loss: 0.3344, average score: 0.8952, AUC: class-0>>0.9722348244260957|class-1>>0.9643408039197895\n",
      " Epoch [55/200] train loss: 0.3377 test loss: 0.3248, average score: 0.9048, AUC: class-0>>0.9684239179747753|class-1>>0.969149804917884\n",
      " Epoch [56/200] train loss: 0.3401 test loss: 0.3210, average score: 0.9048, AUC: class-0>>0.969149804917884|class-1>>0.9679702386353325\n",
      " Epoch [57/200] train loss: 0.3367 test loss: 0.3336, average score: 0.8952, AUC: class-0>>0.9722348244260957|class-1>>0.9642500680519009\n",
      " Epoch [58/200] train loss: 0.3369 test loss: 0.3317, average score: 0.9000, AUC: class-0>>0.9720533526903186|class-1>>0.9645222756555666\n",
      " Epoch [59/200] train loss: 0.3364 test loss: 0.3663, average score: 0.8857, AUC: class-0>>0.9717811450866527|class-1>>0.9583522366391435\n",
      " Epoch [60/200] train loss: 0.3369 test loss: 0.3235, average score: 0.9000, AUC: class-0>>0.9718718809545414|class-1>>0.9657018419381181\n",
      " Epoch [61/200] train loss: 0.3369 test loss: 0.3205, average score: 0.9048, AUC: class-0>>0.9706015788041013|class-1>>0.9674258234280011\n",
      " Epoch [62/200] train loss: 0.3375 test loss: 0.3226, average score: 0.9000, AUC: class-0>>0.9720533526903185|class-1>>0.9660647854096724\n",
      " Epoch [63/200] train loss: 0.3360 test loss: 0.3231, average score: 0.9048, AUC: class-0>>0.9690590690499954|class-1>>0.9681517103711097\n",
      " Epoch [64/200] train loss: 0.3378 test loss: 0.3293, average score: 0.9000, AUC: class-0>>0.9719626168224298|class-1>>0.963796388712458\n",
      " Epoch [65/200] train loss: 0.3358 test loss: 0.3241, average score: 0.9000, AUC: class-0>>0.9715089374829871|class-1>>0.9660647854096724\n",
      " Epoch [66/200] train loss: 0.3391 test loss: 0.3231, average score: 0.9000, AUC: class-0>>0.9714182016150985|class-1>>0.9651574267307866\n",
      " Epoch [67/200] train loss: 0.3366 test loss: 0.3200, average score: 0.9000, AUC: class-0>>0.9703293712004355|class-1>>0.9666092006170038\n",
      " Epoch [68/200] train loss: 0.3362 test loss: 0.3197, average score: 0.9048, AUC: class-0>>0.9693312766536613|class-1>>0.9680609745032211\n",
      " Epoch [69/200] train loss: 0.3368 test loss: 0.3427, average score: 0.8952, AUC: class-0>>0.9716904092187642|class-1>>0.9637056528445695\n",
      " Epoch [70/200] train loss: 0.3378 test loss: 0.3260, average score: 0.9000, AUC: class-0>>0.9712367298793213|class-1>>0.9656111060702296\n",
      " Epoch [71/200] train loss: 0.3368 test loss: 0.3195, average score: 0.9000, AUC: class-0>>0.970420107068324|class-1>>0.9669721440885582\n",
      " Epoch [72/200] train loss: 0.3376 test loss: 0.3266, average score: 0.9000, AUC: class-0>>0.971508937482987|class-1>>0.9649759549950095\n",
      " Epoch [73/200] train loss: 0.3382 test loss: 0.3193, average score: 0.9000, AUC: class-0>>0.9701478994646584|class-1>>0.9668814082206697\n",
      " Epoch [74/200] train loss: 0.3355 test loss: 0.3506, average score: 0.8905, AUC: class-0>>0.9717811450866527|class-1>>0.9627982941656836\n",
      " Epoch [75/200] train loss: 0.3360 test loss: 0.3232, average score: 0.9048, AUC: class-0>>0.9703293712004355|class-1>>0.9666999364848924\n",
      " Epoch [76/200] train loss: 0.3368 test loss: 0.3195, average score: 0.9000, AUC: class-0>>0.970238635332547|class-1>>0.9670628799564469\n",
      " Epoch [77/200] train loss: 0.3355 test loss: 0.3308, average score: 0.9000, AUC: class-0>>0.9718718809545412|class-1>>0.9635241811087923\n",
      " Epoch [78/200] train loss: 0.3363 test loss: 0.3206, average score: 0.9000, AUC: class-0>>0.9713274657472097|class-1>>0.966155521277561\n",
      " Epoch [79/200] train loss: 0.3365 test loss: 0.3206, average score: 0.9000, AUC: class-0>>0.9694220125215498|class-1>>0.967244351692224\n",
      " Epoch [80/200] train loss: 0.3308 test loss: 0.3187, average score: 0.9048, AUC: class-0>>0.9695127483894384|class-1>>0.9676072951637782\n",
      " Epoch [81/200] train loss: 0.3352 test loss: 0.3198, average score: 0.9048, AUC: class-0>>0.9706015788041011|class-1>>0.966609200617004\n",
      " Epoch [82/200] train loss: 0.3367 test loss: 0.3317, average score: 0.9000, AUC: class-0>>0.970420107068324|class-1>>0.9658833136738953\n",
      " Epoch [83/200] train loss: 0.3339 test loss: 0.3499, average score: 0.8905, AUC: class-0>>0.9715996733508756|class-1>>0.9624353506941294\n",
      " Epoch [84/200] train loss: 0.3357 test loss: 0.3301, average score: 0.9000, AUC: class-0>>0.9717811450866527|class-1>>0.964431539787678\n",
      " Epoch [85/200] train loss: 0.3320 test loss: 0.3187, average score: 0.9048, AUC: class-0>>0.9694220125215498|class-1>>0.9677887668995554\n",
      " Epoch [86/200] train loss: 0.3356 test loss: 0.3197, average score: 0.9048, AUC: class-0>>0.9705108429362127|class-1>>0.966609200617004\n",
      " Epoch [87/200] train loss: 0.3342 test loss: 0.3222, average score: 0.9048, AUC: class-0>>0.9692405407857725|class-1>>0.9677887668995553\n",
      " Epoch [88/200] train loss: 0.3345 test loss: 0.3336, average score: 0.8952, AUC: class-0>>0.9718718809545412|class-1>>0.9637056528445694\n",
      " Epoch [89/200] train loss: 0.3342 test loss: 0.3195, average score: 0.9048, AUC: class-0>>0.970420107068324|class-1>>0.966609200617004\n",
      " Epoch [90/200] train loss: 0.3341 test loss: 0.3349, average score: 0.8952, AUC: class-0>>0.9717811450866527|class-1>>0.9622538789583522\n",
      " Epoch [91/200] train loss: 0.3330 test loss: 0.3292, average score: 0.9048, AUC: class-0>>0.971508937482987|class-1>>0.9635241811087923\n",
      " Epoch [92/200] train loss: 0.3344 test loss: 0.3293, average score: 0.9000, AUC: class-0>>0.9715996733508756|class-1>>0.9633427093730151\n",
      " Epoch [93/200] train loss: 0.3320 test loss: 0.3191, average score: 0.9048, AUC: class-0>>0.9700571635967697|class-1>>0.9671536158243353\n",
      " Epoch [94/200] train loss: 0.3342 test loss: 0.3241, average score: 0.9048, AUC: class-0>>0.9714182016150985|class-1>>0.964885219127121\n",
      " Epoch [95/200] train loss: 0.3311 test loss: 0.3266, average score: 0.9048, AUC: class-0>>0.9719626168224298|class-1>>0.9640685963161237\n",
      " Epoch [96/200] train loss: 0.3341 test loss: 0.3220, average score: 0.9000, AUC: class-0>>0.9716904092187643|class-1>>0.965520370202341\n",
      " Epoch [97/200] train loss: 0.3342 test loss: 0.3201, average score: 0.9000, AUC: class-0>>0.970420107068324|class-1>>0.9663369930133382\n",
      " Epoch [98/200] train loss: 0.3342 test loss: 0.3184, average score: 0.9000, AUC: class-0>>0.9703293712004355|class-1>>0.9669721440885582\n",
      " Epoch [99/200] train loss: 0.3333 test loss: 0.3231, average score: 0.9000, AUC: class-0>>0.9713274657472099|class-1>>0.9657018419381181\n",
      " Epoch [100/200] train loss: 0.3316 test loss: 0.3207, average score: 0.9000, AUC: class-0>>0.969784955993104|class-1>>0.9669721440885582\n",
      " Epoch [101/200] train loss: 0.3342 test loss: 0.3378, average score: 0.8952, AUC: class-0>>0.9714182016150984|class-1>>0.9641593321840124\n",
      " Epoch [102/200] train loss: 0.3333 test loss: 0.3282, average score: 0.9000, AUC: class-0>>0.9714182016150985|class-1>>0.9643408039197895\n",
      " Epoch [103/200] train loss: 0.3331 test loss: 0.3193, average score: 0.9000, AUC: class-0>>0.9699664277288812|class-1>>0.9664277288812266\n",
      " Epoch [104/200] train loss: 0.3324 test loss: 0.3222, average score: 0.9000, AUC: class-0>>0.9711459940114326|class-1>>0.9652481625986753\n",
      " Epoch [105/200] train loss: 0.3342 test loss: 0.3301, average score: 0.9000, AUC: class-0>>0.971508937482987|class-1>>0.9637056528445694\n",
      " Epoch [106/200] train loss: 0.3324 test loss: 0.3307, average score: 0.9000, AUC: class-0>>0.9714182016150984|class-1>>0.9639778604482352\n",
      " Epoch [107/200] train loss: 0.3331 test loss: 0.3415, average score: 0.8952, AUC: class-0>>0.9713274657472099|class-1>>0.9639778604482352\n",
      " Epoch [108/200] train loss: 0.3325 test loss: 0.3246, average score: 0.9048, AUC: class-0>>0.971508937482987|class-1>>0.9654296343344524\n",
      " Epoch [109/200] train loss: 0.3320 test loss: 0.3189, average score: 0.9000, AUC: class-0>>0.969784955993104|class-1>>0.9670628799564469\n",
      " Epoch [110/200] train loss: 0.3330 test loss: 0.3184, average score: 0.9048, AUC: class-0>>0.9699664277288812|class-1>>0.9674258234280011\n",
      " Epoch [111/200] train loss: 0.3323 test loss: 0.3383, average score: 0.8952, AUC: class-0>>0.9715089374829871|class-1>>0.9627982941656837\n",
      " Epoch [112/200] train loss: 0.3322 test loss: 0.3337, average score: 0.8952, AUC: class-0>>0.9713274657472097|class-1>>0.9642500680519009\n",
      " Epoch [113/200] train loss: 0.3326 test loss: 0.3330, average score: 0.8952, AUC: class-0>>0.9716904092187642|class-1>>0.964431539787678\n",
      " Epoch [114/200] train loss: 0.3330 test loss: 0.3181, average score: 0.9000, AUC: class-0>>0.9701478994646583|class-1>>0.9670628799564469\n",
      " Epoch [115/200] train loss: 0.3306 test loss: 0.3186, average score: 0.9000, AUC: class-0>>0.9700571635967697|class-1>>0.9671536158243355\n",
      " Epoch [116/200] train loss: 0.3320 test loss: 0.3410, average score: 0.8952, AUC: class-0>>0.9715089374829871|class-1>>0.9626168224299065\n",
      " Epoch [117/200] train loss: 0.3311 test loss: 0.3228, average score: 0.9000, AUC: class-0>>0.9712367298793213|class-1>>0.9653388984665638\n",
      " Epoch [118/200] train loss: 0.3300 test loss: 0.3185, average score: 0.9000, AUC: class-0>>0.9703293712004355|class-1>>0.966609200617004\n",
      " Epoch [119/200] train loss: 0.3299 test loss: 0.3243, average score: 0.9048, AUC: class-0>>0.9712367298793212|class-1>>0.9657925778060067\n",
      " Epoch [120/200] train loss: 0.3316 test loss: 0.3188, average score: 0.9000, AUC: class-0>>0.9706923146719898|class-1>>0.9670628799564468\n",
      " Epoch [121/200] train loss: 0.3318 test loss: 0.3178, average score: 0.9048, AUC: class-0>>0.9696942201252154|class-1>>0.9675165592958896\n",
      " Epoch [122/200] train loss: 0.3303 test loss: 0.3187, average score: 0.9000, AUC: class-0>>0.9701478994646583|class-1>>0.9669721440885582\n",
      " Epoch [123/200] train loss: 0.3295 test loss: 0.3193, average score: 0.9000, AUC: class-0>>0.9700571635967697|class-1>>0.9664277288812267\n",
      " Epoch [124/200] train loss: 0.3305 test loss: 0.3275, average score: 0.9000, AUC: class-0>>0.9717811450866528|class-1>>0.9646130115234552\n",
      " Epoch [125/200] train loss: 0.3312 test loss: 0.3179, average score: 0.9000, AUC: class-0>>0.970238635332547|class-1>>0.9670628799564469\n",
      " Epoch [126/200] train loss: 0.3302 test loss: 0.3313, average score: 0.9000, AUC: class-0>>0.971508937482987|class-1>>0.9647037473913438\n",
      " Epoch [127/200] train loss: 0.3318 test loss: 0.3243, average score: 0.9048, AUC: class-0>>0.9715996733508756|class-1>>0.9644315397876781\n",
      " Epoch [128/200] train loss: 0.3311 test loss: 0.3293, average score: 0.9000, AUC: class-0>>0.971508937482987|class-1>>0.9645222756555666\n",
      " Epoch [129/200] train loss: 0.3311 test loss: 0.3254, average score: 0.9048, AUC: class-0>>0.9710552581435441|class-1>>0.9654296343344524\n",
      " Epoch [130/200] train loss: 0.3309 test loss: 0.3202, average score: 0.9000, AUC: class-0>>0.9706923146719898|class-1>>0.9669721440885582\n",
      " Epoch [131/200] train loss: 0.3310 test loss: 0.3192, average score: 0.9000, AUC: class-0>>0.9708737864077669|class-1>>0.9664277288812267\n",
      " Epoch [132/200] train loss: 0.3297 test loss: 0.3201, average score: 0.9000, AUC: class-0>>0.9716904092187642|class-1>>0.9658833136738952\n",
      " Epoch [133/200] train loss: 0.3297 test loss: 0.3361, average score: 0.8952, AUC: class-0>>0.9713274657472099|class-1>>0.9640685963161238\n",
      " Epoch [134/200] train loss: 0.3312 test loss: 0.3260, average score: 0.9048, AUC: class-0>>0.9709645222756556|class-1>>0.9647037473913438\n",
      " Epoch [135/200] train loss: 0.3310 test loss: 0.3196, average score: 0.9000, AUC: class-0>>0.9701478994646583|class-1>>0.9662462571454495\n",
      " Epoch [136/200] train loss: 0.3307 test loss: 0.3248, average score: 0.9048, AUC: class-0>>0.970873786407767|class-1>>0.9657925778060067\n",
      " Epoch [137/200] train loss: 0.3288 test loss: 0.3176, average score: 0.9048, AUC: class-0>>0.9698756918609927|class-1>>0.9671536158243355\n",
      " Epoch [138/200] train loss: 0.3309 test loss: 0.3246, average score: 0.9000, AUC: class-0>>0.9703293712004355|class-1>>0.9660647854096724\n",
      " Epoch [139/200] train loss: 0.3285 test loss: 0.3180, average score: 0.9000, AUC: class-0>>0.9698756918609927|class-1>>0.9671536158243353\n",
      " Epoch [140/200] train loss: 0.3296 test loss: 0.3267, average score: 0.9000, AUC: class-0>>0.9716904092187642|class-1>>0.9647037473913438\n",
      " Epoch [141/200] train loss: 0.3299 test loss: 0.3221, average score: 0.9000, AUC: class-0>>0.970873786407767|class-1>>0.9657925778060067\n",
      " Epoch [142/200] train loss: 0.3303 test loss: 0.3207, average score: 0.9000, AUC: class-0>>0.9710552581435441|class-1>>0.9659740495417839\n",
      " Epoch [143/200] train loss: 0.3300 test loss: 0.3215, average score: 0.9000, AUC: class-0>>0.970238635332547|class-1>>0.9660647854096724\n",
      " Epoch [144/200] train loss: 0.3297 test loss: 0.3214, average score: 0.9000, AUC: class-0>>0.9705108429362126|class-1>>0.9660647854096724\n",
      " Epoch [145/200] train loss: 0.3302 test loss: 0.3232, average score: 0.9048, AUC: class-0>>0.9715996733508756|class-1>>0.9652481625986753\n",
      " Epoch [146/200] train loss: 0.3303 test loss: 0.3211, average score: 0.9000, AUC: class-0>>0.9707830505398785|class-1>>0.9657018419381181\n",
      " Epoch [147/200] train loss: 0.3297 test loss: 0.3242, average score: 0.9048, AUC: class-0>>0.9710552581435441|class-1>>0.9656111060702296\n",
      " Epoch [148/200] train loss: 0.3295 test loss: 0.3197, average score: 0.9000, AUC: class-0>>0.9705108429362127|class-1>>0.9660647854096724\n",
      " Epoch [149/200] train loss: 0.3296 test loss: 0.3196, average score: 0.9000, AUC: class-0>>0.9700571635967697|class-1>>0.9665184647491153\n",
      " Epoch [150/200] train loss: 0.3296 test loss: 0.3229, average score: 0.9048, AUC: class-0>>0.9712367298793212|class-1>>0.9657018419381181\n",
      " Epoch [151/200] train loss: 0.3291 test loss: 0.3196, average score: 0.9000, AUC: class-0>>0.9707830505398782|class-1>>0.9659740495417839\n",
      " Epoch [152/200] train loss: 0.3301 test loss: 0.3205, average score: 0.9000, AUC: class-0>>0.9712367298793212|class-1>>0.9658833136738952\n",
      " Epoch [153/200] train loss: 0.3293 test loss: 0.3190, average score: 0.9000, AUC: class-0>>0.9699664277288812|class-1>>0.9666999364848925\n",
      " Epoch [154/200] train loss: 0.3281 test loss: 0.3285, average score: 0.9000, AUC: class-0>>0.9715996733508756|class-1>>0.9642500680519009\n",
      " Epoch [155/200] train loss: 0.3291 test loss: 0.3230, average score: 0.9048, AUC: class-0>>0.9712367298793212|class-1>>0.9658833136738952\n",
      " Epoch [156/200] train loss: 0.3291 test loss: 0.3261, average score: 0.9000, AUC: class-0>>0.971508937482987|class-1>>0.9647944832592323\n",
      " Epoch [157/200] train loss: 0.3289 test loss: 0.3229, average score: 0.9048, AUC: class-0>>0.9707830505398785|class-1>>0.965520370202341\n",
      " Epoch [158/200] train loss: 0.3293 test loss: 0.3206, average score: 0.9000, AUC: class-0>>0.9711459940114326|class-1>>0.9659740495417839\n",
      " Epoch [159/200] train loss: 0.3289 test loss: 0.3235, average score: 0.9048, AUC: class-0>>0.9712367298793213|class-1>>0.9658833136738952\n",
      " Epoch [160/200] train loss: 0.3293 test loss: 0.3230, average score: 0.9048, AUC: class-0>>0.9713274657472099|class-1>>0.9656111060702296\n",
      " Epoch [161/200] train loss: 0.3290 test loss: 0.3196, average score: 0.9000, AUC: class-0>>0.9702386353325468|class-1>>0.9660647854096724\n",
      " Epoch [162/200] train loss: 0.3288 test loss: 0.3215, average score: 0.9000, AUC: class-0>>0.9705108429362127|class-1>>0.9658833136738952\n",
      " Epoch [163/200] train loss: 0.3288 test loss: 0.3214, average score: 0.9000, AUC: class-0>>0.9706015788041013|class-1>>0.9660647854096724\n",
      " Epoch [164/200] train loss: 0.3292 test loss: 0.3225, average score: 0.9048, AUC: class-0>>0.9712367298793213|class-1>>0.9657925778060067\n",
      " Epoch [165/200] train loss: 0.3289 test loss: 0.3214, average score: 0.9000, AUC: class-0>>0.970873786407767|class-1>>0.9660647854096724\n",
      " Epoch [166/200] train loss: 0.3289 test loss: 0.3225, average score: 0.9000, AUC: class-0>>0.9709645222756557|class-1>>0.9657925778060067\n",
      " Epoch [167/200] train loss: 0.3287 test loss: 0.3230, average score: 0.9048, AUC: class-0>>0.9712367298793213|class-1>>0.9653388984665638\n",
      " Epoch [168/200] train loss: 0.3287 test loss: 0.3226, average score: 0.9048, AUC: class-0>>0.9710552581435441|class-1>>0.965520370202341\n",
      " Epoch [169/200] train loss: 0.3285 test loss: 0.3212, average score: 0.9000, AUC: class-0>>0.970238635332547|class-1>>0.9658833136738952\n",
      " Epoch [170/200] train loss: 0.3288 test loss: 0.3221, average score: 0.9048, AUC: class-0>>0.9712367298793213|class-1>>0.9658833136738952\n",
      " Epoch [171/200] train loss: 0.3284 test loss: 0.3217, average score: 0.9000, AUC: class-0>>0.9710552581435442|class-1>>0.9657925778060067\n",
      " Epoch [172/200] train loss: 0.3281 test loss: 0.3246, average score: 0.9048, AUC: class-0>>0.9715089374829871|class-1>>0.9652481625986753\n",
      " Epoch [173/200] train loss: 0.3283 test loss: 0.3210, average score: 0.9000, AUC: class-0>>0.9706923146719898|class-1>>0.966155521277561\n",
      " Epoch [174/200] train loss: 0.3281 test loss: 0.3244, average score: 0.9048, AUC: class-0>>0.9711459940114328|class-1>>0.9653388984665638\n",
      " Epoch [175/200] train loss: 0.3286 test loss: 0.3228, average score: 0.9048, AUC: class-0>>0.9710552581435441|class-1>>0.9658833136738952\n",
      " Epoch [176/200] train loss: 0.3282 test loss: 0.3207, average score: 0.9000, AUC: class-0>>0.9704201070683242|class-1>>0.9659740495417839\n",
      " Epoch [177/200] train loss: 0.3285 test loss: 0.3216, average score: 0.9000, AUC: class-0>>0.9704201070683242|class-1>>0.9660647854096724\n",
      " Epoch [178/200] train loss: 0.3285 test loss: 0.3210, average score: 0.9000, AUC: class-0>>0.9706015788041013|class-1>>0.9659740495417839\n",
      " Epoch [179/200] train loss: 0.3282 test loss: 0.3220, average score: 0.9000, AUC: class-0>>0.9709645222756557|class-1>>0.9657018419381181\n",
      " Epoch [180/200] train loss: 0.3282 test loss: 0.3209, average score: 0.9000, AUC: class-0>>0.9710552581435441|class-1>>0.9660647854096724\n",
      " Epoch [181/200] train loss: 0.3284 test loss: 0.3211, average score: 0.9000, AUC: class-0>>0.9706923146719898|class-1>>0.9659740495417839\n",
      " Epoch [182/200] train loss: 0.3281 test loss: 0.3212, average score: 0.9000, AUC: class-0>>0.9710552581435441|class-1>>0.9657925778060067\n",
      " Epoch [183/200] train loss: 0.3280 test loss: 0.3224, average score: 0.9048, AUC: class-0>>0.9711459940114326|class-1>>0.9657925778060067\n",
      " Epoch [184/200] train loss: 0.3281 test loss: 0.3220, average score: 0.9000, AUC: class-0>>0.9710552581435442|class-1>>0.9658833136738952\n",
      " Epoch [185/200] train loss: 0.3281 test loss: 0.3213, average score: 0.9000, AUC: class-0>>0.9710552581435441|class-1>>0.9658833136738953\n",
      " Epoch [186/200] train loss: 0.3281 test loss: 0.3213, average score: 0.9000, AUC: class-0>>0.9706923146719898|class-1>>0.9659740495417839\n",
      " Epoch [187/200] train loss: 0.3281 test loss: 0.3209, average score: 0.9000, AUC: class-0>>0.9705108429362127|class-1>>0.9659740495417839\n",
      " Epoch [188/200] train loss: 0.3281 test loss: 0.3216, average score: 0.9000, AUC: class-0>>0.970873786407767|class-1>>0.9657925778060067\n",
      " Epoch [189/200] train loss: 0.3281 test loss: 0.3220, average score: 0.9000, AUC: class-0>>0.9709645222756557|class-1>>0.9658833136738952\n",
      " Epoch [190/200] train loss: 0.3280 test loss: 0.3216, average score: 0.9000, AUC: class-0>>0.9710552581435441|class-1>>0.9657925778060067\n",
      " Epoch [191/200] train loss: 0.3280 test loss: 0.3214, average score: 0.9000, AUC: class-0>>0.970873786407767|class-1>>0.9657925778060067\n",
      " Epoch [192/200] train loss: 0.3280 test loss: 0.3222, average score: 0.9000, AUC: class-0>>0.9710552581435442|class-1>>0.9658833136738952\n",
      " Epoch [193/200] train loss: 0.3279 test loss: 0.3217, average score: 0.9000, AUC: class-0>>0.9710552581435441|class-1>>0.9657925778060067\n",
      " Epoch [194/200] train loss: 0.3280 test loss: 0.3213, average score: 0.9000, AUC: class-0>>0.9706923146719898|class-1>>0.9660647854096724\n",
      " Epoch [195/200] train loss: 0.3279 test loss: 0.3219, average score: 0.9000, AUC: class-0>>0.9709645222756557|class-1>>0.9658833136738952\n",
      " Epoch [196/200] train loss: 0.3279 test loss: 0.3215, average score: 0.9000, AUC: class-0>>0.9710552581435441|class-1>>0.9657925778060067\n",
      " Epoch [197/200] train loss: 0.3279 test loss: 0.3214, average score: 0.9000, AUC: class-0>>0.9707830505398783|class-1>>0.9658833136738953\n",
      " Epoch [198/200] train loss: 0.3279 test loss: 0.3216, average score: 0.9000, AUC: class-0>>0.9709645222756557|class-1>>0.9657925778060067\n",
      " Epoch [199/200] train loss: 0.3279 test loss: 0.3216, average score: 0.9000, AUC: class-0>>0.9710552581435442|class-1>>0.9658833136738952\n"
     ]
    }
   ],
   "source": [
    "!python train_tcga.py --dataset=TCGA-lung-default"
   ]
  },
  {
   "attachments": {},
   "cell_type": "markdown",
   "metadata": {},
   "source": [
    "## Camelyon16"
   ]
  },
  {
   "cell_type": "code",
   "execution_count": null,
   "metadata": {},
   "outputs": [],
   "source": [
    "%python train_tcga.py --dataset=Camelyon16 --num_classes=1"
   ]
  },
  {
   "attachments": {},
   "cell_type": "markdown",
   "metadata": {},
   "source": [
    "# Test"
   ]
  },
  {
   "cell_type": "code",
   "execution_count": 1,
   "metadata": {},
   "outputs": [
    {
     "name": "stdout",
     "output_type": "stream",
     "text": [
      "Cropping patches, please be patient\n",
      " Cropped: 6/6 -- 43/43"
     ]
    }
   ],
   "source": [
    "!python test_crop_single.py --dataset=tcga"
   ]
  },
  {
   "cell_type": "code",
   "execution_count": 2,
   "metadata": {},
   "outputs": [
    {
     "name": "stdout",
     "output_type": "stream",
     "text": [
      "/home/sci/anaconda3/envs/lcf/lib/python3.9/site-packages/torchvision/models/_utils.py:223: UserWarning: Arguments other than a weight enum or `None` for 'weights' are deprecated since 0.13 and will be removed in 0.15. The current behavior is equivalent to passing `weights=None`.\n",
      "  warnings.warn(msg)\n",
      "test/patches/LUSC-TCGA-22-0940-01Z-00-DX1 is detected as: LUSC\n",
      "/home/sci/PycharmProjects/chaofan/projects/dsmil-wsi/testing_tcga.py:104: UserWarning: To copy construct from a tensor, it is recommended to use sourceTensor.clone().detach() or sourceTensor.clone().detach().requires_grad_(True), rather than torch.tensor(sourceTensor).\n",
      "  attentions = torch.tensor(attentions).cuda()\n",
      "/home/sci/PycharmProjects/chaofan/projects/dsmil-wsi/testing_tcga.py:112: UserWarning: test/output/LUSC-TCGA-22-0940-01Z-00-DX1.png is a low contrast image\n",
      "  io.imsave(os.path.join('test', 'output', slide_name+'.png'), img_as_ubyte(color_map))\n",
      "test/patches/LUAD-TCGA-05-4417-01Z-00-DX1 is detected as: LUAD\n",
      "test/patches/LUAD-TCGA-55-8087-01Z-00-DX1 is detected as: LUAD\n",
      "test/patches/LUAD-TCGA-55-6986-01Z-00-DX1 is detected as: LUAD\n",
      "test/patches/LUSC-TCGA-63-A5MB-01Z-00-DX1 is detected as: LUSC\n",
      "/home/sci/PycharmProjects/chaofan/projects/dsmil-wsi/testing_tcga.py:112: UserWarning: test/output/LUSC-TCGA-63-A5MB-01Z-00-DX1.png is a low contrast image\n",
      "  io.imsave(os.path.join('test', 'output', slide_name+'.png'), img_as_ubyte(color_map))\n",
      "test/patches/LUSC-TCGA-22-5474-01Z-00-DX1 is detected as: both LUAD and LUSC\n",
      "Traceback (most recent call last):\n",
      "  File \"/home/sci/PycharmProjects/chaofan/projects/dsmil-wsi/testing_tcga.py\", line 149, in <module>\n",
      "    test(args, bags_list, milnet)\n",
      "  File \"/home/sci/PycharmProjects/chaofan/projects/dsmil-wsi/testing_tcga.py\", line 108, in test\n",
      "    tile_color = np.asarray(color) * attentions[k]\n",
      "IndexError: index 1190 is out of bounds for axis 0 with size 1190\n"
     ]
    }
   ],
   "source": [
    "!python testing_tcga.py "
   ]
  }
 ],
 "metadata": {
  "kernelspec": {
   "display_name": "lcf",
   "language": "python",
   "name": "python3"
  },
  "language_info": {
   "codemirror_mode": {
    "name": "ipython",
    "version": 3
   },
   "file_extension": ".py",
   "mimetype": "text/x-python",
   "name": "python",
   "nbconvert_exporter": "python",
   "pygments_lexer": "ipython3",
   "version": "3.9.13"
  },
  "orig_nbformat": 4,
  "vscode": {
   "interpreter": {
    "hash": "dddf4cc44ccb2cf796823d3e6277e76da85a74a2d70ce7f32ed1ef0f62e61e3b"
   }
  }
 },
 "nbformat": 4,
 "nbformat_minor": 2
}
