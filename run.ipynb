{
 "cells": [
  {
   "attachments": {},
   "cell_type": "markdown",
   "metadata": {},
   "source": [
    "# data download"
   ]
  },
  {
   "cell_type": "code",
   "execution_count": null,
   "metadata": {},
   "outputs": [],
   "source": [
    "!python download.py --dataset=tcga"
   ]
  },
  {
   "attachments": {},
   "cell_type": "markdown",
   "metadata": {},
   "source": [
    "# train\n",
    "\n",
    "[--num_classes]       # Number of non-negative classes \\\n",
    "[--feats_size]        # Size of feature vector (depends on the CNN backbone)\\\n",
    "[--lr]                # Initial learning rate [0.0002]\\\n",
    "[--num_epochs]        # Number of training epochs [200]\\\n",
    "[--weight_decay]      # Weight decay [5e-3]\\\n",
    "[--dataset]           # Dataset folder name\\\n",
    "[--split]             # Training/validation split [0.2]\\\n",
    "[--dropout_patch]     # Randomly dropout a portion of patches and replace with duplicates during training [0]\\\n",
    "[--dropout_node]      # Randomly dropout a portion of nodes in the value vector generation network during training \\[0]\\"
   ]
  },
  {
   "attachments": {},
   "cell_type": "markdown",
   "metadata": {},
   "source": [
    "## TCGA肺癌数据集"
   ]
  },
  {
   "cell_type": "code",
   "execution_count": 3,
   "metadata": {},
   "outputs": [
    {
     "name": "stderr",
     "output_type": "stream",
     "text": [
      "Traceback (most recent call last):\n",
      "  File \"d:\\Workspace\\Project\\dsmil-wsi\\train_tcga.py\", line 1, in <module>\n",
      "    import torch\n",
      "  File \"F:\\Miniconda\\envs\\gpu\\lib\\site-packages\\torch\\__init__.py\", line 124, in <module>\n",
      "    raise err\n",
      "OSError: [WinError 1455] 页面文件太小，无法完成操作。 Error loading \"F:\\Miniconda\\envs\\gpu\\lib\\site-packages\\torch\\lib\\caffe2_detectron_ops_gpu.dll\" or one of its dependencies.\n"
     ]
    }
   ],
   "source": [
    "!python train_tcga.py --dataset=TCGA-lung-default --num_epochs=10\n"
   ]
  },
  {
   "attachments": {},
   "cell_type": "markdown",
   "metadata": {},
   "source": [
    "## Camelyon16"
   ]
  },
  {
   "cell_type": "code",
   "execution_count": null,
   "metadata": {},
   "outputs": [],
   "source": [
    "%python train_tcga.py --dataset=Camelyon16 --num_classes=1"
   ]
  }
 ],
 "metadata": {
  "kernelspec": {
   "display_name": "Python 3.9.7 ('gpu')",
   "language": "python",
   "name": "python3"
  },
  "language_info": {
   "codemirror_mode": {
    "name": "ipython",
    "version": 3
   },
   "file_extension": ".py",
   "mimetype": "text/x-python",
   "name": "python",
   "nbconvert_exporter": "python",
   "pygments_lexer": "ipython3",
   "version": "3.9.7"
  },
  "orig_nbformat": 4,
  "vscode": {
   "interpreter": {
    "hash": "ed225a44fc57b45d9d2942993dfbf795bd4d7470d7cfe6c55a9454d997cb3122"
   }
  }
 },
 "nbformat": 4,
 "nbformat_minor": 2
}
