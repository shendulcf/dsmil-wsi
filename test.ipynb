{
 "cells": [
  {
   "cell_type": "code",
   "execution_count": null,
   "metadata": {},
   "outputs": [],
   "source": [
    "from IPython.core.interactiveshell import InteractiveShell\n",
    "InteractiveShell.ast_node_interactivity = 'all'\n",
    "import timm\n",
    "\n",
    "# timm.list_models()\n",
    "timm.list_models(pretrained=True)\n",
    "timm.create_model()\n"
   ]
  },
  {
   "cell_type": "code",
   "execution_count": null,
   "metadata": {},
   "outputs": [],
   "source": [
    "import openslide\n",
    "import slideio\n",
    "import os\n",
    "from IPython.core.interactiveshell import InteractiveShell\n",
    "InteractiveShell.ast_node_interactivity = 'all'\n",
    "from PIL import Image\n",
    "\n",
    "## ----> dataset1\n",
    "data_dir = r'E:/Workspace/Datasets/NCT-CRC-HE-100K'\n",
    "classlist = os.listdir(data_dir)\n",
    "dataset = []\n",
    "for i, classes in enumerate(classlist):\n",
    "    dataset_single = os.listdir(data_dir + '/' + classes)\n",
    "    dataset.append(dataset_single)\n",
    "dataset_dict = dict(zip(classlist, dataset))\n",
    "# dataset_dict['ADI'][0]\n",
    "path = os.path.join(data_dir, 'ADI', dataset_dict['ADI'][0])\n",
    "# path\n",
    "slide1 = openslide.open_slide(path)\n",
    "\n",
    "## ----> dataset2\n",
    "dataset2 = os.listdir(r'E:/Workspace/Datasets/PDC-COAD')\n",
    "\n",
    "\n",
    "## ----> openslide \n",
    "\n",
    "slide = openslide.OpenSlide(r'E:/Workspace/Datasets/PDC-COAD/01CO002-11c17768-ed76-4020-8551-80ddaf.svs')\n",
    "slide.properties\n",
    "slide.dimensions\n",
    "slide.level_count\n",
    "slide.level_dimensions\n",
    "slide.level_downsamples\n",
    "image = slide.get_thumbnail((1024,1024))\n",
    "image\n",
    "\n",
    "\n",
    "slide.read_region((1000,1000), 2, (512,512))\n",
    "slide.close()\n"
   ]
  }
 ],
 "metadata": {
  "kernelspec": {
   "display_name": "test",
   "language": "python",
   "name": "python3"
  },
  "language_info": {
   "codemirror_mode": {
    "name": "ipython",
    "version": 3
   },
   "file_extension": ".py",
   "mimetype": "text/x-python",
   "name": "python",
   "nbconvert_exporter": "python",
   "pygments_lexer": "ipython3",
   "version": "3.9.13"
  },
  "orig_nbformat": 4
 },
 "nbformat": 4,
 "nbformat_minor": 2
}
